{
  "nbformat": 4,
  "nbformat_minor": 0,
  "metadata": {
    "colab": {
      "name": "Assignment _2.ipynb",
      "provenance": [],
      "include_colab_link": true
    },
    "kernelspec": {
      "name": "python3",
      "display_name": "Python 3"
    }
  },
  "cells": [
    {
      "cell_type": "markdown",
      "metadata": {
        "id": "view-in-github",
        "colab_type": "text"
      },
      "source": [
        "<a href=\"https://colab.research.google.com/github/TechBison/ML-AI_CLASS/blob/master/Assignment__2.ipynb\" target=\"_parent\"><img src=\"https://colab.research.google.com/assets/colab-badge.svg\" alt=\"Open In Colab\"/></a>"
      ]
    },
    {
      "cell_type": "markdown",
      "metadata": {
        "id": "cy8IKCpzmDuW",
        "colab_type": "text"
      },
      "source": [
        "# **ASSIGNMENT 2**"
      ]
    },
    {
      "cell_type": "markdown",
      "metadata": {
        "id": "Ac1j1sVjmNjB",
        "colab_type": "text"
      },
      "source": [
        "#### BUILT-IN REDUCE IMPLEMENTATION "
      ]
    },
    {
      "cell_type": "code",
      "metadata": {
        "id": "Z0r9ppXb4uRH",
        "colab_type": "code",
        "colab": {}
      },
      "source": [
        "def myReduce(func,*args):\n",
        "  if len(args)== 0:\n",
        "    return None\n",
        "  res = args[0]\n",
        "  for i in range(1,len(args)):\n",
        "    res = func(res,args[i])\n",
        "  return res\n",
        "\n"
      ],
      "execution_count": 0,
      "outputs": []
    },
    {
      "cell_type": "code",
      "metadata": {
        "id": "7vQl3e_0Knhv",
        "colab_type": "code",
        "colab": {
          "base_uri": "https://localhost:8080/",
          "height": 34
        },
        "outputId": "bc1755ff-5357-49b0-9a36-32309e1b0086"
      },
      "source": [
        "print (\"The sum of the list elements is : \",end=\"\") \n",
        "print (myReduce(lambda a,b : a+b,1,2,3,4,5))"
      ],
      "execution_count": 58,
      "outputs": [
        {
          "output_type": "stream",
          "text": [
            "The sum of the list elements is : 15\n"
          ],
          "name": "stdout"
        }
      ]
    },
    {
      "cell_type": "code",
      "metadata": {
        "id": "ZF6WPF_TsHvF",
        "colab_type": "code",
        "outputId": "b18bbff3-545d-4485-d54c-1b0965525140",
        "colab": {
          "base_uri": "https://localhost:8080/",
          "height": 34
        }
      },
      "source": [
        "lis = [ 1 , 3, 5, 6, 2]\n",
        "print (\"The maximum element of the list is : \",end=\"\") \n",
        "print (myReduce(lambda a,b : a if a > b else b,1,2,54,59,25,75))"
      ],
      "execution_count": 59,
      "outputs": [
        {
          "output_type": "stream",
          "text": [
            "The maximum element of the list is : 75\n"
          ],
          "name": "stdout"
        }
      ]
    },
    {
      "cell_type": "markdown",
      "metadata": {
        "id": "C_J0tKVXmoOe",
        "colab_type": "text"
      },
      "source": [
        "#### BUILT-IN FILTER IMPLEMENTATION"
      ]
    },
    {
      "cell_type": "code",
      "metadata": {
        "id": "C27Bl_mtfoNI",
        "colab_type": "code",
        "colab": {}
      },
      "source": [
        "def myFilter(func,*args):\n",
        "  if len(args)==0:\n",
        "    return None\n",
        "  s = args[0]\n",
        "  s = [ s[i] for i in range(0,len(s)) if func(s[i])== True]\n",
        "  return s"
      ],
      "execution_count": 0,
      "outputs": []
    },
    {
      "cell_type": "code",
      "metadata": {
        "id": "SQ8QUYxSsCPR",
        "colab_type": "code",
        "outputId": "f08bae7e-e68d-449a-926e-acca82f3c738",
        "colab": {
          "base_uri": "https://localhost:8080/",
          "height": 136
        }
      },
      "source": [
        "def fun(variable): \n",
        "\tletters = ['a', 'e', 'i', 'o', 'u'] \n",
        "\tif (variable in letters): \n",
        "\t\treturn True\n",
        "\telse: \n",
        "\t\treturn False\n",
        "\n",
        "# sequence \n",
        "sequence = ['g', 'e', 'e', 'j', 'k', 's', 'p', 'r','i','o','u'] \n",
        "\n",
        "# using filter function \n",
        "filtered = myFilter(fun, sequence) \n",
        "print(filtered)\n",
        "print('The filtered letters are:') \n",
        "for s in filtered: \n",
        "\tprint(s) "
      ],
      "execution_count": 61,
      "outputs": [
        {
          "output_type": "stream",
          "text": [
            "['e', 'e', 'i', 'o', 'u']\n",
            "The filtered letters are:\n",
            "e\n",
            "e\n",
            "i\n",
            "o\n",
            "u\n"
          ],
          "name": "stdout"
        }
      ]
    },
    {
      "cell_type": "markdown",
      "metadata": {
        "id": "db6gUrWbDz_N",
        "colab_type": "text"
      },
      "source": [
        "#### ['A', 'C', 'A', 'D', 'G', 'I', ’L’, ‘ D’]"
      ]
    },
    {
      "cell_type": "code",
      "metadata": {
        "id": "Y3H4xIzQC0lQ",
        "colab_type": "code",
        "outputId": "ad0c89fd-9571-458b-8f2b-26e058debde9",
        "colab": {
          "base_uri": "https://localhost:8080/",
          "height": 34
        }
      },
      "source": [
        "l = [i for i in 'ACADGILD']\n",
        "print(l)"
      ],
      "execution_count": 62,
      "outputs": [
        {
          "output_type": "stream",
          "text": [
            "['A', 'C', 'A', 'D', 'G', 'I', 'L', 'D']\n"
          ],
          "name": "stdout"
        }
      ]
    },
    {
      "cell_type": "markdown",
      "metadata": {
        "id": "d0GxkBWCneBW",
        "colab_type": "text"
      },
      "source": [
        "#### ['x', 'xx', 'xxx', 'xxxx', 'y', 'yy', 'yyy', 'yyyy', 'z', 'zz', 'zzz', 'zzzz']"
      ]
    },
    {
      "cell_type": "code",
      "metadata": {
        "id": "MEzORqgwor-z",
        "colab_type": "code",
        "outputId": "43b9e131-4202-4d26-9b3f-2557be0aced5",
        "colab": {
          "base_uri": "https://localhost:8080/",
          "height": 34
        }
      },
      "source": [
        "l = [let*num for let in 'xyz' for num in range(1,5)]\n",
        "print(l)"
      ],
      "execution_count": 63,
      "outputs": [
        {
          "output_type": "stream",
          "text": [
            "['x', 'xx', 'xxx', 'xxxx', 'y', 'yy', 'yyy', 'yyyy', 'z', 'zz', 'zzz', 'zzzz']\n"
          ],
          "name": "stdout"
        }
      ]
    },
    {
      "cell_type": "markdown",
      "metadata": {
        "id": "b105fHbwnegG",
        "colab_type": "text"
      },
      "source": [
        "#### ['x', 'y', 'z', 'xx', 'yy', 'zz', 'xxx', 'yyy', 'zzz', 'xxxx', 'yyyy', 'zzzz']"
      ]
    },
    {
      "cell_type": "code",
      "metadata": {
        "id": "L7RbzuYBq1Do",
        "colab_type": "code",
        "outputId": "48840025-36a1-4e93-c2b0-d24f2b78a8f8",
        "colab": {
          "base_uri": "https://localhost:8080/",
          "height": 34
        }
      },
      "source": [
        "l = [num*let for num in range(1,5) for let in 'xyz']\n",
        "print(l)"
      ],
      "execution_count": 64,
      "outputs": [
        {
          "output_type": "stream",
          "text": [
            "['x', 'y', 'z', 'xx', 'yy', 'zz', 'xxx', 'yyy', 'zzz', 'xxxx', 'yyyy', 'zzzz']\n"
          ],
          "name": "stdout"
        }
      ]
    },
    {
      "cell_type": "markdown",
      "metadata": {
        "id": "yKtKlcx_n_0g",
        "colab_type": "text"
      },
      "source": [
        "#### [(1, 1), (1, 2), (1, 3), (1, 4), (2, 1), (2, 2), (2, 3), (2, 4), (3, 1), (3, 2), (3, 3), (3, 4), (4, 1), (4, 2), (4, 3), (4, 4)]\n"
      ]
    },
    {
      "cell_type": "code",
      "metadata": {
        "id": "wlXfZ2mYrcdZ",
        "colab_type": "code",
        "outputId": "fb6d672f-0ad8-4e3e-fb6e-2e05da1a736e",
        "colab": {
          "base_uri": "https://localhost:8080/",
          "height": 34
        }
      },
      "source": [
        "l = [(let,num) for let in range(1,5) for num in range(1,5)]\n",
        "print(l)"
      ],
      "execution_count": 65,
      "outputs": [
        {
          "output_type": "stream",
          "text": [
            "[(1, 1), (1, 2), (1, 3), (1, 4), (2, 1), (2, 2), (2, 3), (2, 4), (3, 1), (3, 2), (3, 3), (3, 4), (4, 1), (4, 2), (4, 3), (4, 4)]\n"
          ],
          "name": "stdout"
        }
      ]
    },
    {
      "cell_type": "markdown",
      "metadata": {
        "id": "u19PS7uooGt-",
        "colab_type": "text"
      },
      "source": [
        "#### [[2, 3, 4, 5], [3, 4, 5, 6], [4, 5, 6, 7], [5, 6, 7, 8]]"
      ]
    },
    {
      "cell_type": "code",
      "metadata": {
        "id": "e5_xWwlCttNr",
        "colab_type": "code",
        "outputId": "03dd9ae7-51ca-4afa-82df-dd84951422ae",
        "colab": {
          "base_uri": "https://localhost:8080/",
          "height": 34
        }
      },
      "source": [
        "l = [[let for let in range(num,4+num)] for num in range(2,6)]\n",
        "print(l)"
      ],
      "execution_count": 66,
      "outputs": [
        {
          "output_type": "stream",
          "text": [
            "[[2, 3, 4, 5], [3, 4, 5, 6], [4, 5, 6, 7], [5, 6, 7, 8]]\n"
          ],
          "name": "stdout"
        }
      ]
    },
    {
      "cell_type": "markdown",
      "metadata": {
        "id": "LeUdsrS7oKnS",
        "colab_type": "text"
      },
      "source": [
        "#### [[2], [3], [4], [5]]"
      ]
    },
    {
      "cell_type": "code",
      "metadata": {
        "id": "qbmD6fC8u5lj",
        "colab_type": "code",
        "outputId": "a6e67dfa-683a-45dc-c6a4-ace172565370",
        "colab": {
          "base_uri": "https://localhost:8080/",
          "height": 34
        }
      },
      "source": [
        "l = [[num] for num in range(2,6)]\n",
        "print(l)"
      ],
      "execution_count": 67,
      "outputs": [
        {
          "output_type": "stream",
          "text": [
            "[[2], [3], [4], [5]]\n"
          ],
          "name": "stdout"
        }
      ]
    },
    {
      "cell_type": "markdown",
      "metadata": {
        "id": "g_wI44VAqQZg",
        "colab_type": "text"
      },
      "source": [
        "#### Implement a function longestWord() that takes a list of words and returns the longest one."
      ]
    },
    {
      "cell_type": "code",
      "metadata": {
        "id": "BKRZQaI9v0gS",
        "colab_type": "code",
        "outputId": "f991cf74-7ee5-4472-ec65-55e3644b8ff0",
        "colab": {
          "base_uri": "https://localhost:8080/",
          "height": 34
        }
      },
      "source": [
        "def longestWord(l):\n",
        "  return max(l)\n",
        "\n",
        "l=['shami','apple','grapes','shreesh','pineapple']\n",
        "print(longestWord(l))\n"
      ],
      "execution_count": 68,
      "outputs": [
        {
          "output_type": "stream",
          "text": [
            "shreesh\n"
          ],
          "name": "stdout"
        }
      ]
    },
    {
      "cell_type": "code",
      "metadata": {
        "id": "M4kTQcdVx_9A",
        "colab_type": "code",
        "colab": {}
      },
      "source": [
        "def my_func(l):\n",
        "  m = [len(x)for x in l]\n",
        "  return max(m)"
      ],
      "execution_count": 0,
      "outputs": []
    },
    {
      "cell_type": "markdown",
      "metadata": {
        "id": "OUbIUbbdrUB4",
        "colab_type": "text"
      },
      "source": [
        "#### Write a Python program using function concept that maps list of words into a list of integers representing the lengths of the corresponding words​ ."
      ]
    },
    {
      "cell_type": "code",
      "metadata": {
        "id": "mGd9wrU4qt7W",
        "colab_type": "code",
        "colab": {}
      },
      "source": [
        "def my_func_2(l):\n",
        "  m = [len(x) for x in l]\n",
        "  return m"
      ],
      "execution_count": 0,
      "outputs": []
    },
    {
      "cell_type": "code",
      "metadata": {
        "id": "3eoEvnJgy6Id",
        "colab_type": "code",
        "outputId": "1b79bc2c-ebe6-4572-c1f3-23910c34c690",
        "colab": {
          "base_uri": "https://localhost:8080/",
          "height": 34
        }
      },
      "source": [
        "l = ['lkjug','Shreeshgupta','Rmradbj','sunulkumar','prashntkumar']\n",
        "my_func_2(l)"
      ],
      "execution_count": 71,
      "outputs": [
        {
          "output_type": "execute_result",
          "data": {
            "text/plain": [
              "[5, 12, 7, 10, 12]"
            ]
          },
          "metadata": {
            "tags": []
          },
          "execution_count": 71
        }
      ]
    },
    {
      "cell_type": "markdown",
      "metadata": {
        "id": "z9kzmrjxp7us",
        "colab_type": "text"
      },
      "source": [
        "#### Write a function filter_long_words() that takes a list of words and an integer n and returns the list of words that are longer than n"
      ]
    },
    {
      "cell_type": "code",
      "metadata": {
        "id": "rMUT97dhzi8N",
        "colab_type": "code",
        "colab": {}
      },
      "source": [
        "def filter_long_word(l,n):\n",
        "  m = [x for x in l if len(x)>=n]\n",
        "  return m\n"
      ],
      "execution_count": 0,
      "outputs": []
    },
    {
      "cell_type": "code",
      "metadata": {
        "id": "3316ZWx30OcA",
        "colab_type": "code",
        "outputId": "6baa2733-4769-429e-beb0-ad892b50e094",
        "colab": {
          "base_uri": "https://localhost:8080/",
          "height": 34
        }
      },
      "source": [
        "filter_long_word(l,10)"
      ],
      "execution_count": 73,
      "outputs": [
        {
          "output_type": "execute_result",
          "data": {
            "text/plain": [
              "['Shreeshgupta', 'sunulkumar', 'prashntkumar']"
            ]
          },
          "metadata": {
            "tags": []
          },
          "execution_count": 73
        }
      ]
    },
    {
      "cell_type": "markdown",
      "metadata": {
        "id": "p4ANIVsKriD3",
        "colab_type": "text"
      },
      "source": [
        "#### Write a Python function which takes a character (i.e. a string of length 1) and returns True if it is a vowel, False otherwise."
      ]
    },
    {
      "cell_type": "code",
      "metadata": {
        "id": "_Y6Yv_eN0WsN",
        "colab_type": "code",
        "colab": {}
      },
      "source": [
        "def is_vovel(a):\n",
        "  l =['a','i','o','e','u']\n",
        "  if a in l:\n",
        "    return True\n",
        "  else :\n",
        "    return False"
      ],
      "execution_count": 0,
      "outputs": []
    },
    {
      "cell_type": "code",
      "metadata": {
        "id": "FZu8eLjO2v-w",
        "colab_type": "code",
        "outputId": "003c02d0-775f-4f28-bd2d-35eb5f92c9a5",
        "colab": {
          "base_uri": "https://localhost:8080/",
          "height": 34
        }
      },
      "source": [
        "is_vovel('i')"
      ],
      "execution_count": 75,
      "outputs": [
        {
          "output_type": "execute_result",
          "data": {
            "text/plain": [
              "True"
            ]
          },
          "metadata": {
            "tags": []
          },
          "execution_count": 75
        }
      ]
    },
    {
      "cell_type": "code",
      "metadata": {
        "id": "Wyjn8jOb3Bh6",
        "colab_type": "code",
        "outputId": "c44a6151-c8a2-4b9b-ae64-a0c385bc47cb",
        "colab": {
          "base_uri": "https://localhost:8080/",
          "height": 34
        }
      },
      "source": [
        "is_vovel('m')"
      ],
      "execution_count": 76,
      "outputs": [
        {
          "output_type": "execute_result",
          "data": {
            "text/plain": [
              "False"
            ]
          },
          "metadata": {
            "tags": []
          },
          "execution_count": 76
        }
      ]
    },
    {
      "cell_type": "markdown",
      "metadata": {
        "id": "BFOKCSnMEK7G",
        "colab_type": "text"
      },
      "source": [
        "#### area = (s*(s-a)*(s-b)*(s-c)) ** 0.5"
      ]
    },
    {
      "cell_type": "code",
      "metadata": {
        "id": "S83dx2tvFi_d",
        "colab_type": "code",
        "colab": {}
      },
      "source": [
        "class Triangle(object):\n",
        "  def __init__(self):\n",
        "    print(\"Triangle created\")\n",
        "\n",
        "class ChildTri(Triangle):\n",
        "  def __init__(self,a,b,c):\n",
        "    Triangle.__init__(self)\n",
        "    self.a = a\n",
        "    self.b = b\n",
        "    self.c = c\n",
        "  def area(self):\n",
        "    s = (self.a+ self.b+self.c)/2\n",
        "    ar = ((s*(s-self.a)*(s-self.b)*(s-self.c))**0.5)\n",
        "    return ar\n",
        "  \n"
      ],
      "execution_count": 0,
      "outputs": []
    },
    {
      "cell_type": "code",
      "metadata": {
        "id": "t0O2mH2OJUuv",
        "colab_type": "code",
        "outputId": "15c855cd-efbb-4f74-9bf0-5ebf3a1b072a",
        "colab": {
          "base_uri": "https://localhost:8080/",
          "height": 34
        }
      },
      "source": [
        "t1 = ChildTri(5,5,5)"
      ],
      "execution_count": 78,
      "outputs": [
        {
          "output_type": "stream",
          "text": [
            "Triangle created\n"
          ],
          "name": "stdout"
        }
      ]
    },
    {
      "cell_type": "code",
      "metadata": {
        "id": "geGg_KCoJf_W",
        "colab_type": "code",
        "outputId": "5e71ca6e-cd31-42fb-b7d8-4f7896a762a1",
        "colab": {
          "base_uri": "https://localhost:8080/",
          "height": 34
        }
      },
      "source": [
        "t1.area()"
      ],
      "execution_count": 79,
      "outputs": [
        {
          "output_type": "execute_result",
          "data": {
            "text/plain": [
              "10.825317547305483"
            ]
          },
          "metadata": {
            "tags": []
          },
          "execution_count": 79
        }
      ]
    },
    {
      "cell_type": "code",
      "metadata": {
        "id": "xgP5neFaJle_",
        "colab_type": "code",
        "colab": {}
      },
      "source": [
        ""
      ],
      "execution_count": 0,
      "outputs": []
    }
  ]
}