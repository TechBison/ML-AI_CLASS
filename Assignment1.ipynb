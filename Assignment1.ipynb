{
  "nbformat": 4,
  "nbformat_minor": 0,
  "metadata": {
    "colab": {
      "name": "Assignment1.ipynb",
      "provenance": [],
      "include_colab_link": true
    },
    "kernelspec": {
      "name": "python3",
      "display_name": "Python 3"
    }
  },
  "cells": [
    {
      "cell_type": "markdown",
      "metadata": {
        "id": "view-in-github",
        "colab_type": "text"
      },
      "source": [
        "<a href=\"https://colab.research.google.com/github/TechBison/ML-AI_CLASS/blob/master/Assignment1.ipynb\" target=\"_parent\"><img src=\"https://colab.research.google.com/assets/colab-badge.svg\" alt=\"Open In Colab\"/></a>"
      ]
    },
    {
      "cell_type": "markdown",
      "metadata": {
        "id": "BazKQSNP4HsP",
        "colab_type": "text"
      },
      "source": [
        "##**ASSIGNMENT 1**"
      ]
    },
    {
      "cell_type": "code",
      "metadata": {
        "id": "Il_3AK9pl6Ht",
        "colab_type": "code",
        "colab": {}
      },
      "source": [
        "#list of no.s divisible by seven but not by 5?\n",
        "def listdivisible():\n",
        "  n = 2000\n",
        "  a = [] \n",
        "  while(n<=3200):\n",
        "    if(n%5!=0 and n%7 == 0):\n",
        "      a.append(n)\n",
        "    n += 1\n",
        "  print(*a,sep = ', ')\n"
      ],
      "execution_count": 0,
      "outputs": []
    },
    {
      "cell_type": "code",
      "metadata": {
        "id": "VdLqiWYKx-vg",
        "colab_type": "code",
        "outputId": "475a618e-f121-4fba-a48d-fd35b85e2014",
        "colab": {
          "base_uri": "https://localhost:8080/",
          "height": 54
        }
      },
      "source": [
        "listdivisible()\n"
      ],
      "execution_count": 8,
      "outputs": [
        {
          "output_type": "stream",
          "text": [
            "2002, 2009, 2016, 2023, 2037, 2044, 2051, 2058, 2072, 2079, 2086, 2093, 2107, 2114, 2121, 2128, 2142, 2149, 2156, 2163, 2177, 2184, 2191, 2198, 2212, 2219, 2226, 2233, 2247, 2254, 2261, 2268, 2282, 2289, 2296, 2303, 2317, 2324, 2331, 2338, 2352, 2359, 2366, 2373, 2387, 2394, 2401, 2408, 2422, 2429, 2436, 2443, 2457, 2464, 2471, 2478, 2492, 2499, 2506, 2513, 2527, 2534, 2541, 2548, 2562, 2569, 2576, 2583, 2597, 2604, 2611, 2618, 2632, 2639, 2646, 2653, 2667, 2674, 2681, 2688, 2702, 2709, 2716, 2723, 2737, 2744, 2751, 2758, 2772, 2779, 2786, 2793, 2807, 2814, 2821, 2828, 2842, 2849, 2856, 2863, 2877, 2884, 2891, 2898, 2912, 2919, 2926, 2933, 2947, 2954, 2961, 2968, 2982, 2989, 2996, 3003, 3017, 3024, 3031, 3038, 3052, 3059, 3066, 3073, 3087, 3094, 3101, 3108, 3122, 3129, 3136, 3143, 3157, 3164, 3171, 3178, 3192, 3199\n"
          ],
          "name": "stdout"
        }
      ]
    },
    {
      "cell_type": "code",
      "metadata": {
        "id": "IrahWb61nrP6",
        "colab_type": "code",
        "colab": {}
      },
      "source": [
        "#volume of sphere?\n",
        "import math\n",
        "def vol(r):\n",
        "  volu = (4/3) * math.pi * r**3\n",
        "  return volu\n",
        "\n"
      ],
      "execution_count": 0,
      "outputs": []
    },
    {
      "cell_type": "code",
      "metadata": {
        "id": "chtUR4txrAmt",
        "colab_type": "code",
        "outputId": "3a2c8b4a-34f5-46c4-fc31-be2a96fe94fa",
        "colab": {
          "base_uri": "https://localhost:8080/",
          "height": 34
        }
      },
      "source": [
        "print(vol(1))"
      ],
      "execution_count": 10,
      "outputs": [
        {
          "output_type": "stream",
          "text": [
            "4.1887902047863905\n"
          ],
          "name": "stdout"
        }
      ]
    },
    {
      "cell_type": "code",
      "metadata": {
        "id": "6gTf_435rQdZ",
        "colab_type": "code",
        "outputId": "720d320b-4f93-4a10-b85b-8c70b3015b5c",
        "colab": {
          "base_uri": "https://localhost:8080/",
          "height": 51
        }
      },
      "source": [
        "#reverse the first and last name of the name?\n",
        "name = input(\"Input First and Last name: \")\n",
        "rev = ' '.join(reversed(name.split(' ')))\n",
        "print(rev)"
      ],
      "execution_count": 11,
      "outputs": [
        {
          "output_type": "stream",
          "text": [
            "Input First and Last name: \n",
            "\n"
          ],
          "name": "stdout"
        }
      ]
    },
    {
      "cell_type": "code",
      "metadata": {
        "id": "4ox8K_55rvYt",
        "colab_type": "code",
        "outputId": "4adc10d3-a1b0-4f5b-f6ff-bfdb1db20ee2",
        "colab": {
          "base_uri": "https://localhost:8080/",
          "height": 51
        }
      },
      "source": [
        "#convert comma seprated strings in to list \n",
        "val = input(\"Input comma seprated values \")\n",
        "l = val.split(',')\n",
        "print(l)"
      ],
      "execution_count": 12,
      "outputs": [
        {
          "output_type": "stream",
          "text": [
            "Input comma seprated values 1,2,3,6,5,4\n",
            "['1', '2', '3', '6', '5', '4']\n"
          ],
          "name": "stdout"
        }
      ]
    },
    {
      "cell_type": "code",
      "metadata": {
        "id": "u9KmjSAMsjj9",
        "colab_type": "code",
        "outputId": "46a2f5cf-acf5-4c6e-d2d6-af0143f727f8",
        "colab": {
          "base_uri": "https://localhost:8080/",
          "height": 221
        }
      },
      "source": [
        "#print pattern\n",
        "def print_tri():\n",
        "  for i in range(0,6):\n",
        "    for j in range(0,i):\n",
        "      print(\"*\",end=' ')\n",
        "    print()\n",
        "  for i in range(0,4):\n",
        "    for j in range(0,4-i):\n",
        "      print(\"*\",end=' ')\n",
        "    print()\n",
        "  print('\\n')\n",
        "\n",
        "print_tri()"
      ],
      "execution_count": 13,
      "outputs": [
        {
          "output_type": "stream",
          "text": [
            "\n",
            "* \n",
            "* * \n",
            "* * * \n",
            "* * * * \n",
            "* * * * * \n",
            "* * * * \n",
            "* * * \n",
            "* * \n",
            "* \n",
            "\n",
            "\n"
          ],
          "name": "stdout"
        }
      ]
    },
    {
      "cell_type": "code",
      "metadata": {
        "id": "OZXYSspvzhEO",
        "colab_type": "code",
        "outputId": "37a19022-9afd-4a5b-8113-583effdf8a10",
        "colab": {
          "base_uri": "https://localhost:8080/",
          "height": 68
        }
      },
      "source": [
        "#string reversal \n",
        "#method 1\n",
        "st = input(\"Input stirng for reversal \")\n",
        "print(st[::-1])\n",
        "#method 2\n",
        "l = []\n",
        "n = len(st)\n",
        "for i in range(0,n):\n",
        "  l.append(st[n-i-1])\n",
        "m = ''.join(l)\n",
        "print(m)\n"
      ],
      "execution_count": 14,
      "outputs": [
        {
          "output_type": "stream",
          "text": [
            "Input stirng for reversal shreesh gupta\n",
            "atpug hseerhs\n",
            "atpug hseerhs\n"
          ],
          "name": "stdout"
        }
      ]
    },
    {
      "cell_type": "code",
      "metadata": {
        "id": "h0sFypez2AHG",
        "colab_type": "code",
        "colab": {
          "base_uri": "https://localhost:8080/",
          "height": 85
        },
        "outputId": "34200abd-126e-460b-ca61-c61fff120b7f"
      },
      "source": [
        "#paragraph printing\n",
        "print(\"WE, THE PEOPLE OF INDIA,\")\n",
        "print(\"\\thaving solemnly resolved to constitute India into a SOVEREIGN,\")\n",
        "print(\"\\t\\tSOCIALIST, SECULAR, DEMOCRATIC REPUBLIC\")\n",
        "print(\"\\t\\tand to secure to all its citizens\")"
      ],
      "execution_count": 15,
      "outputs": [
        {
          "output_type": "stream",
          "text": [
            "WE, THE PEOPLE OF INDIA,\n",
            "\thaving solemnly resolved to constitute India into a SOVEREIGN,\n",
            "\t\tSOCIALIST, SECULAR, DEMOCRATIC REPUBLIC\n",
            "\t\tand to secure to all its citizens\n"
          ],
          "name": "stdout"
        }
      ]
    },
    {
      "cell_type": "code",
      "metadata": {
        "id": "v7l9LqcR2qrD",
        "colab_type": "code",
        "colab": {}
      },
      "source": [
        ""
      ],
      "execution_count": 0,
      "outputs": []
    }
  ]
}