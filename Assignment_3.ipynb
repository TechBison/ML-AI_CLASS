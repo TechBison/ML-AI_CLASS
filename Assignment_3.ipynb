{
  "nbformat": 4,
  "nbformat_minor": 0,
  "metadata": {
    "colab": {
      "name": "Assignment_3.ipynb",
      "provenance": [],
      "include_colab_link": true
    },
    "kernelspec": {
      "name": "python3",
      "display_name": "Python 3"
    }
  },
  "cells": [
    {
      "cell_type": "markdown",
      "metadata": {
        "id": "view-in-github",
        "colab_type": "text"
      },
      "source": [
        "<a href=\"https://colab.research.google.com/github/TechBison/ML-AI_CLASS/blob/master/Assignment_3.ipynb\" target=\"_parent\"><img src=\"https://colab.research.google.com/assets/colab-badge.svg\" alt=\"Open In Colab\"/></a>"
      ]
    },
    {
      "cell_type": "code",
      "metadata": {
        "id": "pXc7ow55mWk0",
        "colab_type": "code",
        "colab": {}
      },
      "source": [
        "def func_bug():\n",
        "  try:\n",
        "    m = 5/0 \n",
        "  except Exception as es:\n",
        "    print(es)\n"
      ],
      "execution_count": 0,
      "outputs": []
    },
    {
      "cell_type": "code",
      "metadata": {
        "id": "dl6LDUG7nrbr",
        "colab_type": "code",
        "colab": {
          "base_uri": "https://localhost:8080/",
          "height": 34
        },
        "outputId": "6438792c-6041-494e-c58b-27f934dad241"
      },
      "source": [
        "func_bug()"
      ],
      "execution_count": 2,
      "outputs": [
        {
          "output_type": "stream",
          "text": [
            "division by zero\n"
          ],
          "name": "stdout"
        }
      ]
    },
    {
      "cell_type": "code",
      "metadata": {
        "id": "y_pH_AqRnyU0",
        "colab_type": "code",
        "colab": {
          "base_uri": "https://localhost:8080/",
          "height": 153
        },
        "outputId": "2a9f215e-90c2-400c-9166-d8f038e62c2a"
      },
      "source": [
        "subjects = ['Americans','Indian']\n",
        "verbs = [' play',' watch']\n",
        "objects = [' Baseball',' Cricket']\n",
        "\n",
        "lis = [sub+ verb+ obj  for sub in subjects for verb in verbs for obj in objects]\n",
        "for i in lis:\n",
        "  print (i)"
      ],
      "execution_count": 5,
      "outputs": [
        {
          "output_type": "stream",
          "text": [
            "Americans play Baseball\n",
            "Americans play Cricket\n",
            "Americans watch Baseball\n",
            "Americans watch Cricket\n",
            "Indian play Baseball\n",
            "Indian play Cricket\n",
            "Indian watch Baseball\n",
            "Indian watch Cricket\n"
          ],
          "name": "stdout"
        }
      ]
    },
    {
      "cell_type": "code",
      "metadata": {
        "id": "6PQd3RdfpCY3",
        "colab_type": "code",
        "colab": {}
      },
      "source": [
        "import numpy as np \n",
        "def new_func(inpvec,n,increasing = False):\n",
        "  if not increasing:\n",
        "    mat = np.array([x**(n-1-i) for x in inpvec  for i in range(n)]).reshape(inpvec.size,n)\n",
        "  else:\n",
        "    mat = np.array([x**i for x in inpvec for i in range(n)]).reshape(inpvec.size,n)\n",
        "  return mat"
      ],
      "execution_count": 0,
      "outputs": []
    },
    {
      "cell_type": "code",
      "metadata": {
        "id": "Y5zSKaXosXwY",
        "colab_type": "code",
        "colab": {
          "base_uri": "https://localhost:8080/",
          "height": 153
        },
        "outputId": "f1d193fa-bc8a-44f9-9337-ab660ddfaf0e"
      },
      "source": [
        "r = np.array([1,2,3,4])\n",
        "op = new_func(r,4)\n",
        "op2 = new_func(r,4,increasing=True)\n",
        "print(op)\n",
        "print (op2)"
      ],
      "execution_count": 12,
      "outputs": [
        {
          "output_type": "stream",
          "text": [
            "[[ 1  1  1  1]\n",
            " [ 8  4  2  1]\n",
            " [27  9  3  1]\n",
            " [64 16  4  1]]\n",
            "[[ 1  1  1  1]\n",
            " [ 1  2  4  8]\n",
            " [ 1  3  9 27]\n",
            " [ 1  4 16 64]]\n"
          ],
          "name": "stdout"
        }
      ]
    },
    {
      "cell_type": "code",
      "metadata": {
        "id": "l7WJn5s5s803",
        "colab_type": "code",
        "colab": {}
      },
      "source": [
        ""
      ],
      "execution_count": 0,
      "outputs": []
    }
  ]
}